{
 "cells": [
  {
   "cell_type": "code",
   "execution_count": 7,
   "metadata": {
    "collapsed": true
   },
   "outputs": [],
   "source": [
    "\"\"\"\n",
    "Write a program that accepts a sentence and calculate the number of\n",
    "upper case letters and lower case letters. Suppose the following input\n",
    "is supplied to the program: Hello world! Then, the output should be:\n",
    "UPPER CASE 1 LOWER CASE 9\n",
    "\"\"\"\n",
    "\n",
    "def uplowcount(txt):\n",
    "    u=0\n",
    "    l=0\n",
    "    for i in txt:\n",
    "        if i.isupper():\n",
    "            u+=1\n",
    "        elif i.islower():\n",
    "            l+=1\n",
    "    print (\"UPPER CASE \"+str(u) +\"\\n\"+\"lower case \"+str(l))\n",
    "    "
   ]
  }
 ],
 "metadata": {
  "kernelspec": {
   "display_name": "Python 2",
   "language": "python",
   "name": "python2"
  },
  "language_info": {
   "codemirror_mode": {
    "name": "ipython",
    "version": 2
   },
   "file_extension": ".py",
   "mimetype": "text/x-python",
   "name": "python",
   "nbconvert_exporter": "python",
   "pygments_lexer": "ipython2",
   "version": "2.7.11"
  }
 },
 "nbformat": 4,
 "nbformat_minor": 0
}
