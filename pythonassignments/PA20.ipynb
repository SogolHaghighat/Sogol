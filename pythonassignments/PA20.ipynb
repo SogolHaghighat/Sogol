{
 "cells": [
  {
   "cell_type": "code",
   "execution_count": 1,
   "metadata": {
    "collapsed": true
   },
   "outputs": [],
   "source": [
    "\"\"\"\n",
    "De\f",
    "ne a class named Rectangle which can be constructed by a length\n",
    "and width. The Rectangle class has a method which can compute the\n",
    "area.\n",
    "\"\"\"\n",
    "\n",
    "class rectangle(object):\n",
    "    def __init__(self,w,l):\n",
    "        self.w=w\n",
    "        self.l=l\n",
    "        \n",
    "    def area(self):\n",
    "        print \"The area is: \" + str(self.w*self.l)\n",
    "        \n",
    "    \n",
    "    \n",
    "    "
   ]
  }
 ],
 "metadata": {
  "kernelspec": {
   "display_name": "Python 2",
   "language": "python",
   "name": "python2"
  },
  "language_info": {
   "codemirror_mode": {
    "name": "ipython",
    "version": 2
   },
   "file_extension": ".py",
   "mimetype": "text/x-python",
   "name": "python",
   "nbconvert_exporter": "python",
   "pygments_lexer": "ipython2",
   "version": "2.7.11"
  }
 },
 "nbformat": 4,
 "nbformat_minor": 0
}
