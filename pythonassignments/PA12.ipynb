{
 "cells": [
  {
   "cell_type": "code",
   "execution_count": 3,
   "metadata": {
    "collapsed": true
   },
   "outputs": [],
   "source": [
    "\"\"\"\n",
    "Write a program that accepts sequence of lines as input and prints the\n",
    "lines after making all characters in the sentence capitalized. Suppose\n",
    "the following input is supplied to the program:\n",
    "Hello world Practice makes perfect\n",
    "Then, the output should be: HELLO WORLD PRACTICE MAKES\n",
    "PERFECT\n",
    "\"\"\"\n",
    "def mkbig(line):\n",
    "    print line.upper()\n",
    "    "
   ]
  }
 ],
 "metadata": {
  "kernelspec": {
   "display_name": "Python 2",
   "language": "python",
   "name": "python2"
  },
  "language_info": {
   "codemirror_mode": {
    "name": "ipython",
    "version": 2
   },
   "file_extension": ".py",
   "mimetype": "text/x-python",
   "name": "python",
   "nbconvert_exporter": "python",
   "pygments_lexer": "ipython2",
   "version": "2.7.11"
  }
 },
 "nbformat": 4,
 "nbformat_minor": 0
}
