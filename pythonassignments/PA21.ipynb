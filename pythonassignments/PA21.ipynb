{
 "cells": [
  {
   "cell_type": "code",
   "execution_count": 3,
   "metadata": {
    "collapsed": true
   },
   "outputs": [],
   "source": [
    "\"\"\"\n",
    "Define a class named Shape and its subclass Square. The Square class\n",
    "has an init function which takes a length as argument. Both classes\n",
    "have a area function which can print the area of the shape where\n",
    "Shape's area is 0 by default.\n",
    "\"\"\"\n",
    "\n",
    "class shape(object):\n",
    "    \n",
    "    def area(self):\n",
    "        print \"Shape's area is: \" + str(0)\n",
    "        \n",
    "        \n",
    "class square(shape):\n",
    "    def __init__(self, length):\n",
    "        self.length=length\n",
    "        \n",
    "    def area(self):\n",
    "        self.area=self.length**2\n",
    "        print \"Shape's area is: \" + str(self.area)\n",
    "        \n",
    "        \n",
    "        \n"
   ]
  }
 ],
 "metadata": {
  "kernelspec": {
   "display_name": "Python 2",
   "language": "python",
   "name": "python2"
  },
  "language_info": {
   "codemirror_mode": {
    "name": "ipython",
    "version": 2
   },
   "file_extension": ".py",
   "mimetype": "text/x-python",
   "name": "python",
   "nbconvert_exporter": "python",
   "pygments_lexer": "ipython2",
   "version": "2.7.11"
  }
 },
 "nbformat": 4,
 "nbformat_minor": 0
}
