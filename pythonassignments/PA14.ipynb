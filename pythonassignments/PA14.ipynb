{
 "cells": [
  {
   "cell_type": "code",
   "execution_count": 5,
   "metadata": {
    "collapsed": true
   },
   "outputs": [],
   "source": [
    "\"\"\"\n",
    "Write a program that accepts a sentence and calculate the number of\n",
    "letters and digits.\n",
    "Suppose the following input is supplied to the program:\n",
    "hello world! 123\n",
    "Then, the output should be:\n",
    "LETTERS 10\n",
    "DIGITS 3\n",
    "\"\"\"\n",
    "\n",
    "def countin(txt):\n",
    "    l=0\n",
    "    d=0\n",
    "    for i in txt:\n",
    "        if i.isdigit():\n",
    "            d+=1\n",
    "        elif i.isalpha():\n",
    "            l+=1\n",
    "    print (\"LETTERS \"+str(l) +\"\\n\"+\"DIGITS \"+str(d))\n",
    "    "
   ]
  }
 ],
 "metadata": {
  "kernelspec": {
   "display_name": "Python 2",
   "language": "python",
   "name": "python2"
  },
  "language_info": {
   "codemirror_mode": {
    "name": "ipython",
    "version": 2
   },
   "file_extension": ".py",
   "mimetype": "text/x-python",
   "name": "python",
   "nbconvert_exporter": "python",
   "pygments_lexer": "ipython2",
   "version": "2.7.11"
  }
 },
 "nbformat": 4,
 "nbformat_minor": 0
}
