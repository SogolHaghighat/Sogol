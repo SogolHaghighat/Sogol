{
 "cells": [
  {
   "cell_type": "code",
   "execution_count": 11,
   "metadata": {
    "collapsed": true
   },
   "outputs": [],
   "source": [
    "\"\"\"\n",
    "Define a class named American and its subclass NewYorker.\n",
    "\"\"\"\n",
    "\n",
    "\n",
    "class American:\n",
    "    def __init__ (self, name):\n",
    "        self.name=name\n",
    "        \n",
    "    def printname(self):\n",
    "        print \"Name: \"+ self.name\n",
    "     \n",
    "\n",
    "      \n",
    "class NewYorker(American):\n",
    "   pass\n",
    "   \n",
    "    \n",
    "     \n",
    "        \n",
    "        \n",
    "    \n",
    "\n",
    "    \n"
   ]
  }
 ],
 "metadata": {
  "kernelspec": {
   "display_name": "Python 2",
   "language": "python",
   "name": "python2"
  },
  "language_info": {
   "codemirror_mode": {
    "name": "ipython",
    "version": 2
   },
   "file_extension": ".py",
   "mimetype": "text/x-python",
   "name": "python",
   "nbconvert_exporter": "python",
   "pygments_lexer": "ipython2",
   "version": "2.7.11"
  }
 },
 "nbformat": 4,
 "nbformat_minor": 0
}
