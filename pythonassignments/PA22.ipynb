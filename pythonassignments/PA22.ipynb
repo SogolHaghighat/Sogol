{
 "cells": [
  {
   "cell_type": "code",
   "execution_count": 4,
   "metadata": {
    "collapsed": true
   },
   "outputs": [],
   "source": [
    "\"\"\"\n",
    "De\f",
    "ne a class Person and its two child classes: Male and Female. All\n",
    "classes have a method \"getGender\" which can print \"Male\" for Male\n",
    "class and \"Female\" for Female class.\n",
    "\"\"\"\n",
    "class Person(object):\n",
    "    def __init__(self, gender):\n",
    "        self.gender=gender\n",
    "    \n",
    "    def getGender(self):\n",
    "        print self.gender\n",
    "\n",
    "\n",
    "class Male(Person):\n",
    "    pass\n",
    "    \n",
    "\n",
    "    \n",
    "class Female(Person):\n",
    "    pass\n",
    "    \n",
    "        \n",
    "        "
   ]
  }
 ],
 "metadata": {
  "kernelspec": {
   "display_name": "Python 2",
   "language": "python",
   "name": "python2"
  },
  "language_info": {
   "codemirror_mode": {
    "name": "ipython",
    "version": 2
   },
   "file_extension": ".py",
   "mimetype": "text/x-python",
   "name": "python",
   "nbconvert_exporter": "python",
   "pygments_lexer": "ipython2",
   "version": "2.7.11"
  }
 },
 "nbformat": 4,
 "nbformat_minor": 0
}
