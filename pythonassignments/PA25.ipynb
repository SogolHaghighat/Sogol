{
 "cells": [
  {
   "cell_type": "code",
   "execution_count": 13,
   "metadata": {
    "collapsed": true
   },
   "outputs": [],
   "source": [
    "\"\"\"\n",
    "Write a program to compute the frequency of the words from the in-\n",
    "put. The output should output after sorting the key alphanumerically.\n",
    "Suppose the following input is supplied to the program:\n",
    "New to Python or choosing between Python 2 and Python 3? Read\n",
    "Python 2 or Python 3.\n",
    "\"\"\"\n",
    "def freq(txt):\n",
    "    lst=[]\n",
    "    lst=txt.split()\n",
    "    newlst=[]\n",
    "    newlst=sorted(list(set(lst)))\n",
    "    for i in range(len(newlst)):\n",
    "        print newlst[i] +\":  \"+ str(lst.count(newlst[i]))\n",
    "        \n",
    "    \n",
    "        \n",
    "    \n",
    "    "
   ]
  }
 ],
 "metadata": {
  "kernelspec": {
   "display_name": "Python 2",
   "language": "python",
   "name": "python2"
  },
  "language_info": {
   "codemirror_mode": {
    "name": "ipython",
    "version": 2
   },
   "file_extension": ".py",
   "mimetype": "text/x-python",
   "name": "python",
   "nbconvert_exporter": "python",
   "pygments_lexer": "ipython2",
   "version": "2.7.11"
  }
 },
 "nbformat": 4,
 "nbformat_minor": 0
}
