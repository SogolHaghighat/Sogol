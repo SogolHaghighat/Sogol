{
 "cells": [
  {
   "cell_type": "code",
   "execution_count": 7,
   "metadata": {
    "collapsed": true
   },
   "outputs": [],
   "source": [
    "\"\"\"\n",
    "You are required to write a program to sort the (name, age, height)\n",
    "tuples by ascending order where name is string, age and height are\n",
    "numbers. The tuples are input by console. The sort criteria is:\n",
    "1: Sort based on name;\n",
    "2: Then sort based on age;\n",
    "3: Then sort by score.\n",
    "The priority is that name > age > score.\n",
    "If the following tuples are given as input to the program: [('Tom','19','80'),\n",
    "('John','20','90'), ('Jony','17','91'), ('Jony','17','93'), ('Json','21','85')]\n",
    "Then, the output of the program should be:\n",
    "[('John', '20', '90'), ('Jony', '17', '91'), ('Jony', '17', '93'), ('Json', '21',\n",
    "'85'), ('Tom', '19', '80')]\n",
    "Hints: We use itemgetter to enable multiple sort keys.\n",
    "\"\"\"\n",
    "def sorttuple(lst):\n",
    "    import sys\n",
    "    from operator import itemgetter\n",
    "    newlst=[]\n",
    "    newlst=sorted(lst, key=itemgetter(0))\n",
    "    print newlst\n",
    "    \n",
    "    \n",
    "    \n"
   ]
  }
 ],
 "metadata": {
  "kernelspec": {
   "display_name": "Python 2",
   "language": "python",
   "name": "python2"
  },
  "language_info": {
   "codemirror_mode": {
    "name": "ipython",
    "version": 2
   },
   "file_extension": ".py",
   "mimetype": "text/x-python",
   "name": "python",
   "nbconvert_exporter": "python",
   "pygments_lexer": "ipython2",
   "version": "2.7.11"
  }
 },
 "nbformat": 4,
 "nbformat_minor": 0
}
