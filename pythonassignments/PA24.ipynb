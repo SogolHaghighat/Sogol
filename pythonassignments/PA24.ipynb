{
 "cells": [
  {
   "cell_type": "code",
   "execution_count": 10,
   "metadata": {
    "collapsed": true
   },
   "outputs": [],
   "source": [
    "\"\"\"\n",
    "The numbers after the direction are steps. Please write a program to\n",
    "compute the distance from current position after a sequence of move-\n",
    "ment and original point. If the distance is a \n",
    "oat, then just print the\n",
    "nearest integer.\n",
    "Example: If the following tuples are given as input to the program:\n",
    "[('UP', 5), ('DOWN', 3), ('LEFT', 3), ('RIGHT', 2)]\n",
    "Then, the output of the program should be:\n",
    "2\n",
    "\"\"\"\n",
    "\n",
    "def direction(lst):\n",
    "    import math\n",
    "    h=0\n",
    "    v=0\n",
    "    result=0\n",
    "    for i in lst:\n",
    "        if i[0]==\"UP\":\n",
    "            v+=i[1]\n",
    "        elif i[0]==\"DOWN\":\n",
    "            v-=i[1]\n",
    "        elif i[0]==\"RIGHT\":\n",
    "            h+=i[1]\n",
    "        else:\n",
    "            h-=i[1]\n",
    "    result = math.sqrt(float(h**2+v**2))\n",
    "    print round(result)\n",
    "    \n",
    "    \n",
    "    "
   ]
  }
 ],
 "metadata": {
  "kernelspec": {
   "display_name": "Python 2",
   "language": "python",
   "name": "python2"
  },
  "language_info": {
   "codemirror_mode": {
    "name": "ipython",
    "version": 2
   },
   "file_extension": ".py",
   "mimetype": "text/x-python",
   "name": "python",
   "nbconvert_exporter": "python",
   "pygments_lexer": "ipython2",
   "version": "2.7.11"
  }
 },
 "nbformat": 4,
 "nbformat_minor": 0
}
